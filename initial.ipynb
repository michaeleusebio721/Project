{
 "metadata": {
  "language_info": {
   "codemirror_mode": {
    "name": "ipython",
    "version": 3
   },
   "file_extension": ".py",
   "mimetype": "text/x-python",
   "name": "python",
   "nbconvert_exporter": "python",
   "pygments_lexer": "ipython3",
   "version": "3.8.3"
  },
  "orig_nbformat": 2,
  "kernelspec": {
   "name": "python383jvsc74a57bd0715936496f0999366caedd40c05d07bf1ba3d51d5d6c498db7eaa258bfdbe84f",
   "display_name": "Python 3.8.3 64-bit ('base': conda)"
  },
  "metadata": {
   "interpreter": {
    "hash": "f7291e4b392a32fbfa525b87d1bbd0a3d888adf3d0deca0c205c61b9e7284b82"
   }
  }
 },
 "nbformat": 4,
 "nbformat_minor": 2,
 "cells": [
  {
   "cell_type": "code",
   "execution_count": 4,
   "metadata": {},
   "outputs": [
    {
     "output_type": "stream",
     "name": "stdout",
     "text": [
      "Performing interactive authentication. Please follow the instructions on the terminal.\n",
      "Note, we have launched a browser for you to login. For old experience with device code, use \"az login --use-device-code\"\n",
      "You have logged in. Now let us find all the subscriptions to which you have access...\n",
      "Failed to authenticate to tenant 'fd799da1-bfc1-4234-a91c-72b3a1cb9e26' due to error 'Get Token request returned http error: 400 and server response: {\"error\":\"interaction_required\",\"error_description\":\"AADSTS50076: Due to a configuration change made by your administrator, or because you moved to a new location, you must use multi-factor authentication to access '797f4846-ba00-4fd7-ba43-dac1f8f63013'.\\r\\nTrace ID: a46530c8-2161-4179-82ba-2d667e8d7800\\r\\nCorrelation ID: 5bfb8074-cdd7-4d9f-89c5-f816e47a37c4\\r\\nTimestamp: 2021-05-17 16:15:29Z\",\"error_codes\":[50076],\"timestamp\":\"2021-05-17 16:15:29Z\",\"trace_id\":\"a46530c8-2161-4179-82ba-2d667e8d7800\",\"correlation_id\":\"5bfb8074-cdd7-4d9f-89c5-f816e47a37c4\",\"error_uri\":\"https://login.microsoftonline.com/error?code=50076\",\"suberror\":\"basic_action\"}'.Will continue to look for other tenants to find subscriptions to which you have access\n",
      "Interactive authentication successfully completed.\n"
     ]
    },
    {
     "output_type": "execute_result",
     "data": {
      "text/plain": [
       "{'id': '/subscriptions/a0022170-09d3-48b7-8074-a1cf3e8e0b76/resourceGroups/rice_capstone/providers/Microsoft.MachineLearningServices/workspaces/ndeml1',\n",
       " 'name': 'ndeml1',\n",
       " 'identity': {'principal_id': 'bd74120c-c0aa-44e2-a3f2-2bc7982f17ac',\n",
       "  'tenant_id': '7e83b19f-49ba-418a-8f47-db272c14be9e',\n",
       "  'type': 'SystemAssigned'},\n",
       " 'location': 'southcentralus',\n",
       " 'type': 'Microsoft.MachineLearningServices/workspaces',\n",
       " 'tags': {},\n",
       " 'sku': 'Basic',\n",
       " 'workspaceid': '1ac72791-1c13-4d4b-bef1-5d2eaba97368',\n",
       " 'sdkTelemetryAppInsightsKey': 'd83d49eb-3973-4a30-937a-eb3fc2d37c24',\n",
       " 'description': '',\n",
       " 'friendlyName': 'ndeml1',\n",
       " 'creationTime': '2021-05-13T16:39:23.9986545+00:00',\n",
       " 'containerRegistry': '',\n",
       " 'keyVault': '/subscriptions/a0022170-09d3-48b7-8074-a1cf3e8e0b76/resourcegroups/rice_capstone/providers/microsoft.keyvault/vaults/ndeml13571739528',\n",
       " 'applicationInsights': '/subscriptions/a0022170-09d3-48b7-8074-a1cf3e8e0b76/resourcegroups/rice_capstone/providers/microsoft.insights/components/ndeml12174208025',\n",
       " 'storageAccount': '/subscriptions/a0022170-09d3-48b7-8074-a1cf3e8e0b76/resourcegroups/rice_capstone/providers/microsoft.storage/storageaccounts/ndeml13953526899',\n",
       " 'hbiWorkspace': False,\n",
       " 'allowPublicAccessWhenBehindVnet': False,\n",
       " 'provisioningState': 'Succeeded',\n",
       " 'imageBuildCompute': '',\n",
       " 'discoveryUrl': 'https://southcentralus.api.azureml.ms/discovery',\n",
       " 'notebookInfo': {'fqdn': 'ml-ndeml1-southcentralus-1ac72791-1c13-4d4b-bef1-5d2eaba97368.notebooks.azure.net',\n",
       "  'resource_id': '97cb3f92c3ee4ba7b4aee42036051aea'}}"
      ]
     },
     "metadata": {},
     "execution_count": 4
    }
   ],
   "source": [
    "from azureml.core import Workspace\n",
    "\n",
    "ws = Workspace.from_config()\n",
    "ws.get_details()"
   ]
  },
  {
   "cell_type": "code",
   "execution_count": 7,
   "metadata": {},
   "outputs": [],
   "source": [
    "ws = Workspace.get(name='ndeml1', subscription_id='a0022170-09d3-48b7-8074-a1cf3e8e0b76', resource_group='rice_capstone')"
   ]
  },
  {
   "cell_type": "code",
   "execution_count": 12,
   "metadata": {},
   "outputs": [
    {
     "output_type": "execute_result",
     "data": {
      "text/plain": [
       "{\n",
       "  \"id\": \"/subscriptions/a0022170-09d3-48b7-8074-a1cf3e8e0b76/resourceGroups/rice_capstone/providers/Microsoft.MachineLearningServices/workspaces/ndeml1/computes/ndecompute1\",\n",
       "  \"name\": \"ndecompute1\",\n",
       "  \"location\": \"southcentralus\",\n",
       "  \"tags\": null,\n",
       "  \"properties\": {\n",
       "    \"description\": null,\n",
       "    \"computeType\": \"ComputeInstance\",\n",
       "    \"computeLocation\": \"southcentralus\",\n",
       "    \"resourceId\": null,\n",
       "    \"provisioningErrors\": null,\n",
       "    \"provisioningState\": \"Succeeded\",\n",
       "    \"properties\": {\n",
       "      \"vmSize\": \"STANDARD_DS2_V2\",\n",
       "      \"applications\": [\n",
       "        {\n",
       "          \"displayName\": \"Jupyter\",\n",
       "          \"endpointUri\": \"https://ndecompute1.southcentralus.instances.azureml.ms\"\n",
       "        },\n",
       "        {\n",
       "          \"displayName\": \"Jupyter Lab\",\n",
       "          \"endpointUri\": \"https://ndecompute1.southcentralus.instances.azureml.ms/lab\"\n",
       "        },\n",
       "        {\n",
       "          \"displayName\": \"RStudio\",\n",
       "          \"endpointUri\": \"https://ndecompute1-8787.southcentralus.instances.azureml.ms\"\n",
       "        }\n",
       "      ],\n",
       "      \"connectivityEndpoints\": {\n",
       "        \"publicIpAddress\": \"20.94.161.163\",\n",
       "        \"privateIpAddress\": \"10.0.0.5\"\n",
       "      },\n",
       "      \"sshSettings\": {\n",
       "        \"sshPublicAccess\": \"Enabled\",\n",
       "        \"adminUserName\": \"azureuser\",\n",
       "        \"adminPublicKey\": \"ssh-rsa AAAAB3NzaC1yc2EAAAADAQABAAABgQCX5MLm35em/a5AztixUurVdcBDdYg1CIO/Y/3unxVjvvSVMawU++VqTjj0nAVS1p9FZlcqDmjua31Qn95lTDejNHcVoI/KdjMOsjUvtaYjFVmbx8ytj55ayMNHsjAuL1OpBid1aOoQQJUEB1f3u7XHvs4WY8jln6ll9x8AJ1FudWA/dbV5oNjy72Z4O9t+1fyBk0iMc12TwlUqb85VUtz0KWVxd4YKNnvcPTk18IihAo4sfy2g7yZcsUK94lSpQGOBXWjsQSrwvBNUQaqCklQ74Bzh4shbO0KaKmM0kmYbLo28C3oZDr8SKNZyDQIm/TcKvH7bm1d4hL9xfjt1MBxqjlx2A4Zz1nswajboYAOYgmPWk+wrRhg26iY3/VPSi7RuD/wAIgFAmhB7fO0/ae4p5gRPIqlApGaHWGcMiYsxIfY8DzWQE+FkvT6E8JK6/AlkfEGr7ZGswMhqZv0suGok/ITIW5MDBKCQGST+NuHNBTi8wZA6v/Kckkee+63sIfU= generated-by-azure\",\n",
       "        \"sshPort\": 50001\n",
       "      },\n",
       "      \"personalComputeInstanceSettings\": null,\n",
       "      \"subnet\": {\n",
       "        \"id\": null\n",
       "      },\n",
       "      \"errors\": []\n",
       "    },\n",
       "    \"status\": {\n",
       "      \"errors\": [],\n",
       "      \"creationTime\": \"2021-05-13T16:53:56.529282+00:00\",\n",
       "      \"createdBy\": {\n",
       "        \"userObjectId\": \"1621612b-e328-453b-9011-bf1e981e0f91\",\n",
       "        \"userTenantId\": \"7e83b19f-49ba-418a-8f47-db272c14be9e\",\n",
       "        \"userName\": \"michael eusebio\"\n",
       "      },\n",
       "      \"modifiedTime\": \"2021-05-13T16:56:33.027766+00:00\",\n",
       "      \"state\": \"Running\",\n",
       "      \"vmSize\": \"STANDARD_DS2_V2\"\n",
       "    }\n",
       "  }\n",
       "}"
      ],
      "text/html": "<table style=\"width:100%\"><tr><th>Name</th><th>Workspace</th><th>State</th><th>Location</th><th>VmSize</th><th>Application URI</th><th>SSH</th><th>Docs</th></tr><tr><td><a href=\"https://ml.azure.com/compute/ndecompute1/details?wsid=/subscriptions/a0022170-09d3-48b7-8074-a1cf3e8e0b76/resourcegroups/rice_capstone/workspaces/ndeml1\" target=\"_blank\" rel=\"noopener\">ndecompute1</a></td><td><a href=\"https://ml.azure.com?wsid=/subscriptions/a0022170-09d3-48b7-8074-a1cf3e8e0b76/resourcegroups/rice_capstone/workspaces/ndeml1&amp;tid=7e83b19f-49ba-418a-8f47-db272c14be9e\" target=\"_blank\" rel=\"noopener\">ndeml1</a></td><td>Running</td><td>southcentralus</td><td>STANDARD_DS2_V2</td><td><a href=\"https://ndecompute1.southcentralus.instances.azureml.ms\" target=\"_blank\" rel=\"noopener\">Jupyter</a>  <a href=\"https://ndecompute1.southcentralus.instances.azureml.ms/lab\" target=\"_blank\" rel=\"noopener\">JupyterLab</a>  <a href=\"https://ndecompute1-8787.southcentralus.instances.azureml.ms\" target=\"_blank\" rel=\"noopener\">RStudio</a></td><td>azureuser@20.94.161.163 -p 50001</td><td><a href=\"https://docs.microsoft.com/en-us/python/api/azureml-core/azureml.core.compute.computeinstance.ComputeInstance?view=azure-ml-py\" target=\"_blank\" rel=\"noopener\">Doc</a></td></tr></table>"
     },
     "metadata": {},
     "execution_count": 12
    }
   ],
   "source": [
    "ws.compute_targets['ndecompute1']"
   ]
  }
 ]
}